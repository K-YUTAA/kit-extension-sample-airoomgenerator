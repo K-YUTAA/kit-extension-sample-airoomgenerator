{
  "nbformat": 4,
  "nbformat_minor": 0,
  "metadata": {
    "colab": {
      "provenance": [],
      "gpuType": "T4",
      "include_colab_link": true
    },
    "kernelspec": {
      "name": "python3",
      "display_name": "Python 3"
    },
    "accelerator": "GPU"
  },
  "cells": [
    {
      "cell_type": "markdown",
      "metadata": {
        "id": "view-in-github",
        "colab_type": "text"
      },
      "source": [
        "<a href=\"https://colab.research.google.com/github/K-YUTAA/kit-extension-sample-airoomgenerator/blob/main/Report/IMISToolA2025_Report4.ipynb\" target=\"_parent\"><img src=\"https://colab.research.google.com/assets/colab-badge.svg\" alt=\"Open In Colab\"/></a>"
      ]
    },
    {
      "cell_type": "markdown",
      "metadata": {
        "id": "-SqpuNOEWS-a"
      },
      "source": [
        "# Report 4 (2025/07/28 ver.A)\n",
        "\n",
        "for Tools for intelligent interaction systems a (0ALE005 / 0AL5707).\n",
        "\n",
        "---\n",
        "\n",
        "<font color=\"red\">\n",
        "If Ver.B or later, change log should be found at the end of this page.  \n",
        "\n",
        "Your ID info should be placed in the following three items (MANDATORY).\n",
        "</font>\n",
        "\n",
        "* Student ID: (E.g. 202099998)...Erase-and-put-yours-here\n",
        "* Name: (E.g. 筑波 太郎）...Erase-and-put-yours-here\n",
        "* Colab account: (E.g. tsukuba.taro.xs@alumni.tsukuba.ac.jp)...Erase-and-put-yours-here\n",
        "\n",
        "---\n",
        "\n",
        "Report could be written in English or Japanese. / レポートの記述は日本語でも英語でもよい．\n",
        "\n",
        "---"
      ]
    },
    {
      "cell_type": "markdown",
      "metadata": {
        "id": "8NUVKBVvmvtw"
      },
      "source": [
        "---\n",
        "# Report4A: Live capture query with CIFAR-10 or MNIST  \n",
        "\n",
        "* Show the way to build a classfier of CIFAR10 or MNIST.\n",
        "* Provide a python program that captures an image from a camera and that shows its recognition result of the image immediately.\n",
        "\n",
        "Hint: Each shown in tutorials. Find a way to unite them.\n",
        "\n"
      ]
    },
    {
      "cell_type": "code",
      "source": [
        "from IPython.display import display, Javascript\n",
        "from google.colab.output import eval_js\n",
        "from base64 import b64decode\n",
        "\n",
        "def take_photo(filename='photo.jpg', quality=0.8):\n",
        "  js = Javascript('''\n",
        "    async function takePhoto(quality) {\n",
        "      const div = document.createElement('div');\n",
        "      const capture = document.createElement('button');\n",
        "      capture.textContent = 'Capture';\n",
        "      div.appendChild(capture);\n",
        "\n",
        "      const video = document.createElement('video');\n",
        "      video.style.display = 'block';\n",
        "      const stream = await navigator.mediaDevices.getUserMedia({video: true});\n",
        "\n",
        "      document.body.appendChild(div);\n",
        "      div.appendChild(video);\n",
        "      video.srcObject = stream;\n",
        "      await video.play();\n",
        "\n",
        "      // Resize the output to fit the video element.\n",
        "      google.colab.output.setIframeHeight(document.documentElement.scrollHeight, true);\n",
        "\n",
        "      // Wait for Capture to be clicked.\n",
        "      await new Promise((resolve) => capture.onclick = resolve);\n",
        "\n",
        "      const canvas = document.createElement('canvas');\n",
        "      canvas.width = video.videoWidth;\n",
        "      canvas.height = video.videoHeight;\n",
        "      canvas.getContext('2d').drawImage(video, 0, 0);\n",
        "      stream.getVideoTracks()[0].stop();\n",
        "      div.remove();\n",
        "      return canvas.toDataURL('image/jpeg', quality);\n",
        "    }\n",
        "    ''')\n",
        "  display(js)\n",
        "  data = eval_js('takePhoto({})'.format(quality))\n",
        "  binary = b64decode(data.split(',')[1])\n",
        "  with open(filename, 'wb') as f:\n",
        "    f.write(binary)\n",
        "  return filename"
      ],
      "metadata": {
        "id": "F9NEuhS2nu7H"
      },
      "execution_count": null,
      "outputs": []
    },
    {
      "cell_type": "code",
      "metadata": {
        "id": "s4hQ22_UpMRq",
        "outputId": "eb81c874-7944-4add-ef50-ff8c88a98512",
        "colab": {
          "base_uri": "https://localhost:8080/"
        }
      },
      "source": [
        "print ('You can put code cells and text cells around here.')"
      ],
      "execution_count": null,
      "outputs": [
        {
          "output_type": "stream",
          "name": "stdout",
          "text": [
            "You can put code cells and text cells around here.\n"
          ]
        }
      ]
    },
    {
      "cell_type": "code",
      "source": [
        "import os\n",
        "import math\n",
        "import time\n",
        "import io\n",
        "import base64\n",
        "from pathlib import Path\n",
        "\n",
        "import torch\n",
        "import torch.nn as nn\n",
        "import torch.nn.functional as F\n",
        "from torch.utils.data import DataLoader\n",
        "from torchvision import datasets, transforms\n",
        "\n",
        "import numpy as np\n",
        "import matplotlib.pyplot as plt\n",
        "\n",
        "# For Colab camera and JS interop\n",
        "from IPython.display import display, Javascript, HTML\n",
        "from google.colab import output, files\n",
        "\n",
        "# Reproducibility\n",
        "torch.manual_seed(42)\n",
        "np.random.seed(42)\n",
        "\n",
        "device = torch.device(\"cuda\" if torch.cuda.is_available() else \"cpu\")\n",
        "print(\"Device:\", device)"
      ],
      "metadata": {
        "id": "qftGVNoAoY27",
        "outputId": "a4a99fac-fb28-4a4d-91fd-f9d8ed532f4a",
        "colab": {
          "base_uri": "https://localhost:8080/"
        }
      },
      "execution_count": null,
      "outputs": [
        {
          "output_type": "stream",
          "name": "stdout",
          "text": [
            "Device: cuda\n"
          ]
        }
      ]
    },
    {
      "cell_type": "code",
      "source": [
        "\n",
        "# Normalization values for MNIST\n",
        "MNIST_MEAN, MNIST_STD = 0.1307, 0.3081\n",
        "\n",
        "transform_train = transforms.Compose([\n",
        "    transforms.ToTensor(),\n",
        "    transforms.Normalize((MNIST_MEAN,), (MNIST_STD,)),\n",
        "])\n",
        "\n",
        "transform_test = transforms.Compose([\n",
        "    transforms.ToTensor(),\n",
        "    transforms.Normalize((MNIST_MEAN,), (MNIST_STD,)),\n",
        "])\n",
        "\n",
        "data_root = \"./data\"\n",
        "train_ds = datasets.MNIST(root=data_root, train=True, download=True, transform=transform_train)\n",
        "test_ds  = datasets.MNIST(root=data_root, train=False, download=True, transform=transform_test)\n",
        "\n",
        "train_loader = DataLoader(train_ds, batch_size=128, shuffle=True, num_workers=2, pin_memory=True)\n",
        "test_loader  = DataLoader(test_ds,  batch_size=256, shuffle=False, num_workers=2, pin_memory=True)\n",
        "\n",
        "len(train_ds), len(test_ds)\n"
      ],
      "metadata": {
        "id": "zAFHmXAsof7a",
        "outputId": "7bb15017-a269-43d9-fa03-e7c9c65ffd4b",
        "colab": {
          "base_uri": "https://localhost:8080/"
        }
      },
      "execution_count": null,
      "outputs": [
        {
          "output_type": "stream",
          "name": "stderr",
          "text": [
            "100%|██████████| 9.91M/9.91M [00:01<00:00, 5.03MB/s]\n",
            "100%|██████████| 28.9k/28.9k [00:00<00:00, 133kB/s]\n",
            "100%|██████████| 1.65M/1.65M [00:01<00:00, 1.26MB/s]\n",
            "100%|██████████| 4.54k/4.54k [00:00<00:00, 8.91MB/s]\n"
          ]
        },
        {
          "output_type": "execute_result",
          "data": {
            "text/plain": [
              "(60000, 10000)"
            ]
          },
          "metadata": {},
          "execution_count": 2
        }
      ]
    },
    {
      "cell_type": "code",
      "source": [
        "\n",
        "class SmallCNN(nn.Module):\n",
        "    def __init__(self):\n",
        "        super().__init__()\n",
        "        self.conv1 = nn.Conv2d(1, 32, 3, padding=1)  # 28x28 -> 28x28\n",
        "        self.conv2 = nn.Conv2d(32, 64, 3, padding=1) # 14x14 -> 14x14 (after pool)\n",
        "        self.pool = nn.MaxPool2d(2,2)                # halves size\n",
        "        self.dropout = nn.Dropout(0.25)\n",
        "        self.fc1 = nn.Linear(64*7*7, 128)\n",
        "        self.fc2 = nn.Linear(128, 10)\n",
        "\n",
        "    def forward(self, x):\n",
        "        x = F.relu(self.conv1(x))\n",
        "        x = self.pool(x)\n",
        "        x = F.relu(self.conv2(x))\n",
        "        x = self.pool(x)\n",
        "        x = self.dropout(x)\n",
        "        x = x.view(x.size(0), -1)\n",
        "        x = F.relu(self.fc1(x))\n",
        "        x = self.dropout(x)\n",
        "        x = self.fc2(x)\n",
        "        return x\n",
        "\n",
        "model = SmallCNN().to(device)\n",
        "print(model)\n"
      ],
      "metadata": {
        "id": "AqHh8iA6ojWD",
        "outputId": "eaf6e3a0-f2b6-41a4-e077-755b23815819",
        "colab": {
          "base_uri": "https://localhost:8080/"
        }
      },
      "execution_count": null,
      "outputs": [
        {
          "output_type": "stream",
          "name": "stdout",
          "text": [
            "SmallCNN(\n",
            "  (conv1): Conv2d(1, 32, kernel_size=(3, 3), stride=(1, 1), padding=(1, 1))\n",
            "  (conv2): Conv2d(32, 64, kernel_size=(3, 3), stride=(1, 1), padding=(1, 1))\n",
            "  (pool): MaxPool2d(kernel_size=2, stride=2, padding=0, dilation=1, ceil_mode=False)\n",
            "  (dropout): Dropout(p=0.25, inplace=False)\n",
            "  (fc1): Linear(in_features=3136, out_features=128, bias=True)\n",
            "  (fc2): Linear(in_features=128, out_features=10, bias=True)\n",
            ")\n"
          ]
        }
      ]
    },
    {
      "cell_type": "code",
      "source": [
        "\n",
        "def evaluate(model, loader, device):\n",
        "    model.eval()\n",
        "    correct, total = 0, 0\n",
        "    with torch.no_grad():\n",
        "        for x, y in loader:\n",
        "            x, y = x.to(device), y.to(device)\n",
        "            logits = model(x)\n",
        "            pred = logits.argmax(dim=1)\n",
        "            correct += (pred == y).sum().item()\n",
        "            total += y.size(0)\n",
        "    return correct / total\n",
        "\n",
        "def train(model, train_loader, test_loader, device, epochs=2, lr=1e-3):\n",
        "    opt = torch.optim.Adam(model.parameters(), lr=lr)\n",
        "    criterion = nn.CrossEntropyLoss()\n",
        "    best_acc = 0.0\n",
        "    for epoch in range(1, epochs+1):\n",
        "        model.train()\n",
        "        running_loss = 0.0\n",
        "        for i, (x, y) in enumerate(train_loader, 1):\n",
        "            x, y = x.to(device), y.to(device)\n",
        "            opt.zero_grad()\n",
        "            logits = model(x)\n",
        "            loss = criterion(logits, y)\n",
        "            loss.backward()\n",
        "            opt.step()\n",
        "            running_loss += loss.item()\n",
        "            if i % 100 == 0:\n",
        "                print(f\"Epoch {epoch} | step {i}/{len(train_loader)} | loss {running_loss/100:.4f}\")\n",
        "                running_loss = 0.0\n",
        "        acc = evaluate(model, test_loader, device)\n",
        "        print(f\"[Epoch {epoch}] Test accuracy: {acc*100:.2f}%\")\n",
        "        if acc > best_acc:\n",
        "            best_acc = acc\n",
        "            torch.save(model.state_dict(), \"mnist_cnn.pt\")\n",
        "            print(\"Saved checkpoint: mnist_cnn.pt (best so far)\")\n",
        "    print(f\"Best accuracy: {best_acc*100:.2f}%\")\n"
      ],
      "metadata": {
        "id": "nYfOtnMpomh5"
      },
      "execution_count": null,
      "outputs": []
    },
    {
      "cell_type": "code",
      "source": [
        "\n",
        "# If a checkpoint exists, load it. Otherwise, train quickly (2 epochs).\n",
        "ckpt_path = Path(\"mnist_cnn.pt\")\n",
        "if ckpt_path.exists():\n",
        "    model.load_state_dict(torch.load(ckpt_path, map_location=device))\n",
        "    print(\"Loaded existing checkpoint:\", ckpt_path)\n",
        "else:\n",
        "    print(\"No checkpoint found. Start training...\")\n",
        "    train(model, train_loader, test_loader, device, epochs=2, lr=1e-3)\n",
        "    print(\"Training done.\")\n",
        "\n",
        "print(\"Final test accuracy:\", evaluate(model, test_loader, device)*100, \"%\")\n"
      ],
      "metadata": {
        "id": "COWKbarhopFP",
        "outputId": "52554d55-3ffa-4565-d782-f4a75eadcf92",
        "colab": {
          "base_uri": "https://localhost:8080/"
        }
      },
      "execution_count": null,
      "outputs": [
        {
          "output_type": "stream",
          "name": "stdout",
          "text": [
            "No checkpoint found. Start training...\n",
            "Epoch 1 | step 100/469 | loss 0.5648\n",
            "Epoch 1 | step 200/469 | loss 0.1542\n",
            "Epoch 1 | step 300/469 | loss 0.1187\n",
            "Epoch 1 | step 400/469 | loss 0.0919\n",
            "[Epoch 1] Test accuracy: 98.32%\n",
            "Saved checkpoint: mnist_cnn.pt (best so far)\n",
            "Epoch 2 | step 100/469 | loss 0.0696\n",
            "Epoch 2 | step 200/469 | loss 0.0697\n",
            "Epoch 2 | step 300/469 | loss 0.0671\n",
            "Epoch 2 | step 400/469 | loss 0.0601\n",
            "[Epoch 2] Test accuracy: 98.73%\n",
            "Saved checkpoint: mnist_cnn.pt (best so far)\n",
            "Best accuracy: 98.73%\n",
            "Training done.\n",
            "Final test accuracy: 98.72999999999999 %\n"
          ]
        }
      ]
    },
    {
      "cell_type": "code",
      "source": [
        "\n",
        "import cv2\n",
        "\n",
        "def preprocess_to_mnist(path, debug=False):\n",
        "    # Preprocess an arbitrary image (color or gray) into MNIST-like tensor.\n",
        "    img = cv2.imread(path, cv2.IMREAD_COLOR)\n",
        "    if img is None:\n",
        "        raise FileNotFoundError(f\"Image not found: {path}\")\n",
        "    gray = cv2.cvtColor(img, cv2.COLOR_BGR2GRAY)\n",
        "\n",
        "    # Heuristic inversion to match MNIST (white digit on dark background)\n",
        "    if gray.mean() > 128:\n",
        "        gray = 255 - gray\n",
        "\n",
        "    # Threshold to get bounding box\n",
        "    _, th = cv2.threshold(gray, 0, 255, cv2.THRESH_BINARY + cv2.THRESH_OTSU)\n",
        "    ys, xs = np.where(th > 0)\n",
        "    if len(xs) > 0 and len(ys) > 0:\n",
        "        x1, x2 = xs.min(), xs.max()\n",
        "        y1, y2 = ys.min(), ys.max()\n",
        "        roi = gray[y1:y2+1, x1:x2+1]\n",
        "    else:\n",
        "        roi = gray\n",
        "\n",
        "    # Resize longer side to 20, keep aspect, then pad to 28x28\n",
        "    h2, w2 = roi.shape[:2]\n",
        "    scale = 20.0 / max(h2, w2) if max(h2, w2) > 0 else 1.0\n",
        "    new_size = (max(1, int(round(w2*scale))), max(1, int(round(h2*scale))))\n",
        "    roi_resized = cv2.resize(roi, new_size, interpolation=cv2.INTER_AREA)\n",
        "\n",
        "    canvas = np.zeros((28, 28), dtype=np.uint8)\n",
        "    y_off = (28 - roi_resized.shape[0]) // 2\n",
        "    x_off = (28 - roi_resized.shape[1]) // 2\n",
        "    canvas[y_off:y_off+roi_resized.shape[0], x_off:x_off+roi_resized.shape[1]] = roi_resized\n",
        "\n",
        "    tensor = torch.from_numpy(canvas).float().unsqueeze(0).unsqueeze(0) / 255.0\n",
        "    tensor = (tensor - MNIST_MEAN) / MNIST_STD\n",
        "    if debug:\n",
        "        plt.figure()\n",
        "        plt.title(\"Preprocessed 28x28\")\n",
        "        plt.imshow(canvas, cmap='gray')\n",
        "        plt.axis('off')\n",
        "        plt.show()\n",
        "    return tensor.to(device), canvas\n"
      ],
      "metadata": {
        "id": "eVmEuVbwortJ"
      },
      "execution_count": null,
      "outputs": []
    },
    {
      "cell_type": "code",
      "source": [
        "\n",
        "# Colab webcam capture + prediction\n",
        "def take_photo(filename='capture.jpg', quality=0.9):\n",
        "    # Opens the webcam in the browser and captures one frame into `filename`.\n",
        "    js = Javascript('''\n",
        "      async function takePhoto(quality) {\n",
        "        const div = document.createElement('div');\n",
        "        const video = document.createElement('video');\n",
        "        const btn = document.createElement('button');\n",
        "        const stream = await navigator.mediaDevices.getUserMedia({video: true});\n",
        "        document.body.appendChild(div);\n",
        "        div.appendChild(video);\n",
        "        div.appendChild(btn);\n",
        "        video.style.maxWidth = '480px';\n",
        "        btn.textContent = '📸 Capture';\n",
        "        video.srcObject = stream;\n",
        "        await video.play();\n",
        "        google.colab.output.setIframeHeight(document.documentElement.scrollHeight, true);\n",
        "        await new Promise((resolve) => { btn.onclick = resolve; });\n",
        "        const canvas = document.createElement('canvas');\n",
        "        canvas.width = video.videoWidth;\n",
        "        canvas.height = video.videoHeight;\n",
        "        canvas.getContext('2d').drawImage(video, 0, 0);\n",
        "        stream.getTracks().forEach(track => track.stop());\n",
        "        div.remove();\n",
        "        return canvas.toDataURL('image/jpeg', quality);\n",
        "      }\n",
        "    ''')\n",
        "    display(js)\n",
        "    data = output.eval_js('takePhoto({})'.format(quality))\n",
        "    if not data:\n",
        "        print(\"No photo captured.\")\n",
        "        return None\n",
        "    binary = base64.b64decode(data.split(',')[1])\n",
        "    with open(filename, 'wb') as f:\n",
        "        f.write(binary)\n",
        "    return filename\n",
        "\n",
        "def predict_image_tensor(x):\n",
        "    model.eval()\n",
        "    with torch.no_grad():\n",
        "        logits = model(x)\n",
        "        probs = torch.softmax(logits, dim=1).squeeze(0).cpu().numpy()\n",
        "        pred = int(np.argmax(probs))\n",
        "        conf = float(np.max(probs))\n",
        "    return pred, conf, probs\n",
        "\n",
        "save_path = take_photo('capture.jpg', quality=0.9)\n",
        "if save_path is not None:\n",
        "    # 元のキャプチャ画像を表示\n",
        "    img_bgr = cv2.imread(save_path)               # BGR形式で読み込み\n",
        "    img_rgb = cv2.cvtColor(img_bgr, cv2.COLOR_BGR2RGB)  # RGBに変換\n",
        "    plt.figure()\n",
        "    plt.title(\"Captured Image\")\n",
        "    plt.imshow(img_rgb)\n",
        "    plt.axis('off')\n",
        "    plt.show()\n",
        "\n",
        "    # 前処理と予測\n",
        "    x, canvas = preprocess_to_mnist(save_path, debug=True)\n",
        "    pred, conf, probs = predict_image_tensor(x)\n",
        "    print(f\"Prediction: {pred}  (confidence: {conf*100:.2f}%)\")\n",
        "\n",
        "    # クラス確率のバー表示\n",
        "    plt.figure()\n",
        "    plt.title(\"Class probabilities\")\n",
        "    plt.bar(range(10), probs)\n",
        "    plt.xlabel(\"Digit\")\n",
        "    plt.ylabel(\"Probability\")\n",
        "    plt.show()\n"
      ],
      "metadata": {
        "id": "8vzU5FUBou3P",
        "outputId": "4c179ac6-e785-403f-8ede-0b89cdf6bc54",
        "colab": {
          "base_uri": "https://localhost:8080/",
          "height": 901
        }
      },
      "execution_count": null,
      "outputs": [
        {
          "output_type": "display_data",
          "data": {
            "text/plain": [
              "<IPython.core.display.Javascript object>"
            ],
            "application/javascript": [
              "\n",
              "      async function takePhoto(quality) {\n",
              "        const div = document.createElement('div');\n",
              "        const video = document.createElement('video');\n",
              "        const btn = document.createElement('button');\n",
              "        const stream = await navigator.mediaDevices.getUserMedia({video: true});\n",
              "        document.body.appendChild(div);\n",
              "        div.appendChild(video);\n",
              "        div.appendChild(btn);\n",
              "        video.style.maxWidth = '480px';\n",
              "        btn.textContent = '📸 Capture';\n",
              "        video.srcObject = stream;\n",
              "        await video.play();\n",
              "        google.colab.output.setIframeHeight(document.documentElement.scrollHeight, true);\n",
              "        await new Promise((resolve) => { btn.onclick = resolve; });\n",
              "        const canvas = document.createElement('canvas');\n",
              "        canvas.width = video.videoWidth;\n",
              "        canvas.height = video.videoHeight;\n",
              "        canvas.getContext('2d').drawImage(video, 0, 0);\n",
              "        stream.getTracks().forEach(track => track.stop());\n",
              "        div.remove();\n",
              "        return canvas.toDataURL('image/jpeg', quality);\n",
              "      }\n",
              "    "
            ]
          },
          "metadata": {}
        },
        {
          "output_type": "display_data",
          "data": {
            "text/plain": [
              "<Figure size 640x480 with 1 Axes>"
            ],
            "image/png": "[encoded data removed]"
          },
          "metadata": {}
        },
        {
          "output_type": "stream",
          "name": "stdout",
          "text": [
            "Prediction: 2  (confidence: 46.75%)\n"
          ]
        },
        {
          "output_type": "display_data",
          "data": {
            "text/plain": [
              "<Figure size 640x480 with 1 Axes>"
            ],
            "image/png": "[encoded data removed]"
          },
          "metadata": {}
        }
      ]
    },
    {
      "cell_type": "markdown",
      "metadata": {
        "id": "j_LNv7qr2Jcq"
      },
      "source": [
        "(You can put text cells around here)"
      ]
    },
    {
      "cell_type": "markdown",
      "metadata": {
        "id": "aExQhnAcClQB"
      },
      "source": [
        "---\n",
        "# Report4B: Tutorials of pytorch\n",
        "\n",
        "There are [many tutorials](https://github.com/kameda-yoshinari/IMISToolExeA2021/blob/master/300_PyTorch.ipynb) provided by the Pytorch official site. Pick up **four tutorials** (you should complete those tutorials) and make a report for the four tutorials on:\n",
        "\n",
        "* Summary (2-3 lines)\n",
        "* What you learn\n",
        "* The most difficult part\n",
        "\n",
        "Note that you can choose the first two (mandatory ones) in the four choices.\n",
        "However, you should not take all fours in basic category (at least one should be from other category)."
      ]
    },
    {
      "cell_type": "markdown",
      "metadata": {
        "id": "0jF38tfbtz03"
      },
      "source": [
        "---\n",
        "# Report4C: Unique features of PyTorch found in Tutorials\n",
        "\n",
        "Throughout the tutorial experience of Report4B, what do you find as the unique features of PyTorch (compared with other ML libraries)?\n",
        "As for the generic PyTorch features, you should find appopriate part in the tutorials / documents in the official pytorch www, site them, and poiencounteredurce and the features.   \n",
        "Then summersize them totally from your viewpoint.\n",
        "\n",
        "* List up at least two unique features. (+ URL, sentences to fit, and short description for each)\n",
        "* Point the encountered unique features in your tutorial experience in Report4B and write how you feel it actually. (You can pick up one of the four tutorial experiences.)\n"
      ]
    },
    {
      "cell_type": "markdown",
      "metadata": {
        "id": "RplBC85KCrzP"
      },
      "source": [
        "(You can put text cells around here)"
      ]
    },
    {
      "cell_type": "markdown",
      "metadata": {
        "id": "TjOgrYW8lAmy"
      },
      "source": [
        "---\n",
        "# Report4D: AI support to learn python and PyTorch  \n",
        "\n",
        "Find out the state-of-the-art AI support which is available / helpful on learning how to write python / pytorch codes on google colab.\n",
        "Then write your own comment on what kind of changes would happen on PyTorch in a couple of years.\n",
        "\n",
        "* AI service name\n",
        "* AI service \"official web site\"\n",
        "* Major funcitons of provided support\n",
        "* The service start date and version history (including the URL that holds such info)\n"
      ]
    },
    {
      "cell_type": "markdown",
      "metadata": {
        "id": "B9Z8A8xin-Ru"
      },
      "source": [
        "(You can put text cells around here)"
      ]
    },
    {
      "cell_type": "markdown",
      "source": [
        "---\n",
        "#Report4E: Your Goole drive usage\n",
        "\n",
        "Find out the amount of your google drive space and report it.  \n",
        "Discuss the availability and what you should do to make it small.\n"
      ],
      "metadata": {
        "id": "EG38xv8ZHJUw"
      }
    },
    {
      "cell_type": "markdown",
      "source": [
        "(You can put text cells around here)"
      ],
      "metadata": {
        "id": "B6eNVn3PJFTM"
      }
    },
    {
      "cell_type": "markdown",
      "metadata": {
        "id": "c7rf54NjW5f2"
      },
      "source": [
        "---\n",
        "# Report submission\n",
        "\n",
        "The report template will be given in ipynb file.  \n",
        "\n",
        "You should save this file as a report templete to your local google colaboratory folder and then edit it to fit your report.\n",
        "\n",
        "The report submission should be made at this cource (0ALE005) at https://manaba.tsukuba.ac.jp .  \n",
        "Note that 0AL5707 is coupled with 0ALE005 on manaba system, so 0AL5707 students should also submit the report at 0ALE005.  \n",
        "File extension should be **ipynb**. Other format won't be accepted.  \n",
        "\n",
        "\n",
        "\n",
        "\n",
        "\n"
      ]
    },
    {
      "cell_type": "markdown",
      "metadata": {
        "id": "mrwIDJcJkSCk"
      },
      "source": [
        "---\n",
        "Tools and Practices for Intelligent Interaction Systems A  \n",
        "Master's and Docotal programs in intelligent and mechanical interaction systems, University of Tsukuba, Japan.  \n",
        "KAMEDA Yoshinari, SHIBUYA Takeshi  \n",
        "\n",
        "知能システムツール演習a  \n",
        "知能機能システム学位プログラム (筑波大学大学院)  \n",
        "担当：亀田能成，澁谷長史  \n",
        "\n",
        "2025/07/28. Ver.A.  \n",
        "\n",
        "\n"
      ]
    }
  ]
}